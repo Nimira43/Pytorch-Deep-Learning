{
  "nbformat": 4,
  "nbformat_minor": 0,
  "metadata": {
    "colab": {
      "provenance": [],
      "authorship_tag": "ABX9TyOh968Nh/4A83W7o6GXOFtr",
      "include_colab_link": true
    },
    "kernelspec": {
      "name": "python3",
      "display_name": "Python 3"
    },
    "language_info": {
      "name": "python"
    }
  },
  "cells": [
    {
      "cell_type": "markdown",
      "metadata": {
        "id": "view-in-github",
        "colab_type": "text"
      },
      "source": [
        "<a href=\"https://colab.research.google.com/github/Nimira43/Deep-Learning-Pytorch/blob/main/fund_01.ipynb\" target=\"_parent\"><img src=\"https://colab.research.google.com/assets/colab-badge.svg\" alt=\"Open In Colab\"/></a>"
      ]
    },
    {
      "cell_type": "code",
      "execution_count": null,
      "metadata": {
        "colab": {
          "base_uri": "https://localhost:8080/"
        },
        "id": "ZTdwLyg72TC2",
        "outputId": "8bd0b95b-c2e9-406f-da9b-e7db0631a968"
      },
      "outputs": [
        {
          "output_type": "stream",
          "name": "stdout",
          "text": [
            "Sat Sep  9 21:33:05 2023       \n",
            "+-----------------------------------------------------------------------------+\n",
            "| NVIDIA-SMI 525.105.17   Driver Version: 525.105.17   CUDA Version: 12.0     |\n",
            "|-------------------------------+----------------------+----------------------+\n",
            "| GPU  Name        Persistence-M| Bus-Id        Disp.A | Volatile Uncorr. ECC |\n",
            "| Fan  Temp  Perf  Pwr:Usage/Cap|         Memory-Usage | GPU-Util  Compute M. |\n",
            "|                               |                      |               MIG M. |\n",
            "|===============================+======================+======================|\n",
            "|   0  Tesla T4            Off  | 00000000:00:04.0 Off |                    0 |\n",
            "| N/A   53C    P8    10W /  70W |      0MiB / 15360MiB |      0%      Default |\n",
            "|                               |                      |                  N/A |\n",
            "+-------------------------------+----------------------+----------------------+\n",
            "                                                                               \n",
            "+-----------------------------------------------------------------------------+\n",
            "| Processes:                                                                  |\n",
            "|  GPU   GI   CI        PID   Type   Process name                  GPU Memory |\n",
            "|        ID   ID                                                   Usage      |\n",
            "|=============================================================================|\n",
            "|  No running processes found                                                 |\n",
            "+-----------------------------------------------------------------------------+\n"
          ]
        }
      ],
      "source": [
        "!nvidia-smi\n"
      ]
    },
    {
      "cell_type": "code",
      "source": [
        "import torch\n",
        "print(torch.__version__)"
      ],
      "metadata": {
        "colab": {
          "base_uri": "https://localhost:8080/"
        },
        "id": "Y_InNXtX3gCc",
        "outputId": "2c75883e-ae51-4acb-b969-deb53f79b923"
      },
      "execution_count": 1,
      "outputs": [
        {
          "output_type": "stream",
          "name": "stdout",
          "text": [
            "2.0.1+cu118\n"
          ]
        }
      ]
    },
    {
      "cell_type": "code",
      "source": [
        "import pandas as pd\n",
        "import numpy as np\n",
        "import matplotlib.pyplot as plt"
      ],
      "metadata": {
        "id": "DCwWbHY24ruJ"
      },
      "execution_count": 2,
      "outputs": []
    },
    {
      "cell_type": "markdown",
      "source": [
        "###Tensors - Scalar"
      ],
      "metadata": {
        "id": "r_8dbOUb6Q4v"
      }
    },
    {
      "cell_type": "code",
      "source": [
        "scalar = torch.tensor(7)\n",
        "scalar"
      ],
      "metadata": {
        "colab": {
          "base_uri": "https://localhost:8080/"
        },
        "id": "6ttwuB7p6g1-",
        "outputId": "54e68e01-b9ce-42fc-ba3c-3baf38cf9f20"
      },
      "execution_count": 3,
      "outputs": [
        {
          "output_type": "execute_result",
          "data": {
            "text/plain": [
              "tensor(7)"
            ]
          },
          "metadata": {},
          "execution_count": 3
        }
      ]
    },
    {
      "cell_type": "code",
      "source": [
        "scalar.ndim"
      ],
      "metadata": {
        "colab": {
          "base_uri": "https://localhost:8080/"
        },
        "id": "pO5eJP5x7edM",
        "outputId": "8f197ac5-7ad2-497d-cf73-ef26a362abf6"
      },
      "execution_count": 4,
      "outputs": [
        {
          "output_type": "execute_result",
          "data": {
            "text/plain": [
              "0"
            ]
          },
          "metadata": {},
          "execution_count": 4
        }
      ]
    },
    {
      "cell_type": "code",
      "source": [
        "scalar.item()"
      ],
      "metadata": {
        "colab": {
          "base_uri": "https://localhost:8080/"
        },
        "id": "oLubN1is7iW4",
        "outputId": "3c54213b-f54b-4281-d151-678380a25332"
      },
      "execution_count": 5,
      "outputs": [
        {
          "output_type": "execute_result",
          "data": {
            "text/plain": [
              "7"
            ]
          },
          "metadata": {},
          "execution_count": 5
        }
      ]
    },
    {
      "cell_type": "markdown",
      "source": [
        "Vector"
      ],
      "metadata": {
        "id": "JuQQvdfn8MDF"
      }
    },
    {
      "cell_type": "code",
      "source": [
        "vector = torch.tensor([7, 7])\n",
        "vector"
      ],
      "metadata": {
        "colab": {
          "base_uri": "https://localhost:8080/"
        },
        "id": "eZfL71kg8PRJ",
        "outputId": "7b3c8110-2c59-4e3a-e5a9-cea1110a3eb9"
      },
      "execution_count": 6,
      "outputs": [
        {
          "output_type": "execute_result",
          "data": {
            "text/plain": [
              "tensor([7, 7])"
            ]
          },
          "metadata": {},
          "execution_count": 6
        }
      ]
    },
    {
      "cell_type": "code",
      "source": [
        "vector.ndim"
      ],
      "metadata": {
        "colab": {
          "base_uri": "https://localhost:8080/"
        },
        "id": "d1SjY8hQ8YWa",
        "outputId": "2d8f411c-db7a-40ec-e226-58a3fbaead2b"
      },
      "execution_count": 7,
      "outputs": [
        {
          "output_type": "execute_result",
          "data": {
            "text/plain": [
              "1"
            ]
          },
          "metadata": {},
          "execution_count": 7
        }
      ]
    },
    {
      "cell_type": "code",
      "source": [
        "vector.shape"
      ],
      "metadata": {
        "colab": {
          "base_uri": "https://localhost:8080/"
        },
        "id": "HasmmTxr8rxz",
        "outputId": "123a330d-78f2-4f05-e477-71648ca10398"
      },
      "execution_count": 8,
      "outputs": [
        {
          "output_type": "execute_result",
          "data": {
            "text/plain": [
              "torch.Size([2])"
            ]
          },
          "metadata": {},
          "execution_count": 8
        }
      ]
    },
    {
      "cell_type": "markdown",
      "source": [
        "Matrix"
      ],
      "metadata": {
        "id": "oVc4PDVs9Hpc"
      }
    },
    {
      "cell_type": "code",
      "source": [
        "MATRIX = torch.tensor([[7, 8],\n",
        "                       [9, 10]])\n",
        "MATRIX"
      ],
      "metadata": {
        "colab": {
          "base_uri": "https://localhost:8080/"
        },
        "id": "cXw_8fZC9KWq",
        "outputId": "36e3168d-f5d3-47ad-8a49-bbc1ecc97027"
      },
      "execution_count": 9,
      "outputs": [
        {
          "output_type": "execute_result",
          "data": {
            "text/plain": [
              "tensor([[ 7,  8],\n",
              "        [ 9, 10]])"
            ]
          },
          "metadata": {},
          "execution_count": 9
        }
      ]
    },
    {
      "cell_type": "code",
      "source": [
        "MATRIX.ndim"
      ],
      "metadata": {
        "colab": {
          "base_uri": "https://localhost:8080/"
        },
        "id": "eWAuAVKL9cA9",
        "outputId": "4be721b4-950b-4cad-a73d-1ee8192cef6a"
      },
      "execution_count": 10,
      "outputs": [
        {
          "output_type": "execute_result",
          "data": {
            "text/plain": [
              "2"
            ]
          },
          "metadata": {},
          "execution_count": 10
        }
      ]
    },
    {
      "cell_type": "code",
      "source": [
        "MATRIX[0]"
      ],
      "metadata": {
        "colab": {
          "base_uri": "https://localhost:8080/"
        },
        "id": "lM7ZjSrJ9sRv",
        "outputId": "65409106-c8f7-4252-9ee0-754f8c406f38"
      },
      "execution_count": 11,
      "outputs": [
        {
          "output_type": "execute_result",
          "data": {
            "text/plain": [
              "tensor([7, 8])"
            ]
          },
          "metadata": {},
          "execution_count": 11
        }
      ]
    },
    {
      "cell_type": "code",
      "source": [
        "MATRIX[1]"
      ],
      "metadata": {
        "colab": {
          "base_uri": "https://localhost:8080/"
        },
        "id": "8r8MS1Zc9183",
        "outputId": "4b53b16f-1d3e-474c-93f4-36cb438aad15"
      },
      "execution_count": 12,
      "outputs": [
        {
          "output_type": "execute_result",
          "data": {
            "text/plain": [
              "tensor([ 9, 10])"
            ]
          },
          "metadata": {},
          "execution_count": 12
        }
      ]
    },
    {
      "cell_type": "code",
      "source": [
        "MATRIX.shape"
      ],
      "metadata": {
        "colab": {
          "base_uri": "https://localhost:8080/"
        },
        "id": "i8sngPcV9_Om",
        "outputId": "b4602b15-08ef-445e-95a4-3c07287f7fa3"
      },
      "execution_count": 13,
      "outputs": [
        {
          "output_type": "execute_result",
          "data": {
            "text/plain": [
              "torch.Size([2, 2])"
            ]
          },
          "metadata": {},
          "execution_count": 13
        }
      ]
    },
    {
      "cell_type": "markdown",
      "source": [
        "Tensor"
      ],
      "metadata": {
        "id": "y-ulU1Hq-Kbf"
      }
    },
    {
      "cell_type": "code",
      "source": [
        "TENSOR = torch.tensor([[[1, 2, 3],\n",
        "                         [4, 5, 6],\n",
        "                         [7, 8, 9]]])\n",
        "TENSOR.ndim"
      ],
      "metadata": {
        "colab": {
          "base_uri": "https://localhost:8080/"
        },
        "id": "tbrKxMTX-S98",
        "outputId": "4f11991b-7c79-4326-efce-35d7b41839c6"
      },
      "execution_count": 14,
      "outputs": [
        {
          "output_type": "execute_result",
          "data": {
            "text/plain": [
              "3"
            ]
          },
          "metadata": {},
          "execution_count": 14
        }
      ]
    },
    {
      "cell_type": "code",
      "source": [
        "TENSOR.shape"
      ],
      "metadata": {
        "colab": {
          "base_uri": "https://localhost:8080/"
        },
        "id": "OKL_gpkk_IUO",
        "outputId": "0927f864-991f-4331-fef2-ff176fe94004"
      },
      "execution_count": 15,
      "outputs": [
        {
          "output_type": "execute_result",
          "data": {
            "text/plain": [
              "torch.Size([1, 3, 3])"
            ]
          },
          "metadata": {},
          "execution_count": 15
        }
      ]
    },
    {
      "cell_type": "code",
      "source": [
        "TENSOR[0]"
      ],
      "metadata": {
        "colab": {
          "base_uri": "https://localhost:8080/"
        },
        "id": "5Z7kxXaU_XRn",
        "outputId": "d79f3530-d26a-412c-a011-e458214dc756"
      },
      "execution_count": 16,
      "outputs": [
        {
          "output_type": "execute_result",
          "data": {
            "text/plain": [
              "tensor([[1, 2, 3],\n",
              "        [4, 5, 6],\n",
              "        [7, 8, 9]])"
            ]
          },
          "metadata": {},
          "execution_count": 16
        }
      ]
    },
    {
      "cell_type": "code",
      "source": [
        "TENSOR = torch.tensor([[[[[23, 45, 53, 94, 23],\n",
        "                          [93, 20, 21, 73, 36],\n",
        "                          [63, 88, 31, 67, 75],\n",
        "                          [73, 64, 99, 22, 61],\n",
        "                          [38, 11, 86, 77, 38]]]]])\n",
        "TENSOR.ndim"
      ],
      "metadata": {
        "id": "Fn3KragH_5QO",
        "colab": {
          "base_uri": "https://localhost:8080/"
        },
        "outputId": "9d5cb401-ccee-4519-ee43-4090db68f083"
      },
      "execution_count": 18,
      "outputs": [
        {
          "output_type": "execute_result",
          "data": {
            "text/plain": [
              "5"
            ]
          },
          "metadata": {},
          "execution_count": 18
        }
      ]
    },
    {
      "cell_type": "code",
      "source": [
        "TENSOR.shape"
      ],
      "metadata": {
        "colab": {
          "base_uri": "https://localhost:8080/"
        },
        "id": "I7EINqR1sKqX",
        "outputId": "33575277-7b92-4887-88ea-510b2b08c472"
      },
      "execution_count": 19,
      "outputs": [
        {
          "output_type": "execute_result",
          "data": {
            "text/plain": [
              "torch.Size([1, 1, 1, 5, 5])"
            ]
          },
          "metadata": {},
          "execution_count": 19
        }
      ]
    },
    {
      "cell_type": "code",
      "source": [
        "TENSOR[0]"
      ],
      "metadata": {
        "colab": {
          "base_uri": "https://localhost:8080/"
        },
        "id": "uBSSaO_wsb9_",
        "outputId": "d22c6ef0-375d-476a-89fa-94d391d2f27a"
      },
      "execution_count": 20,
      "outputs": [
        {
          "output_type": "execute_result",
          "data": {
            "text/plain": [
              "tensor([[[[23, 45, 53, 94, 23],\n",
              "          [93, 20, 21, 73, 36],\n",
              "          [63, 88, 31, 67, 75],\n",
              "          [73, 64, 99, 22, 61],\n",
              "          [38, 11, 86, 77, 38]]]])"
            ]
          },
          "metadata": {},
          "execution_count": 20
        }
      ]
    },
    {
      "cell_type": "markdown",
      "source": [
        "RANDOM TENSORS"
      ],
      "metadata": {
        "id": "gGvUnoV4tgWB"
      }
    },
    {
      "cell_type": "code",
      "source": [
        "random_tensor = torch.rand(3, 4)\n",
        "random_tensor"
      ],
      "metadata": {
        "colab": {
          "base_uri": "https://localhost:8080/"
        },
        "id": "PmPu0sZ0tldh",
        "outputId": "8c9a18d3-ffec-49e7-8718-b980549f4fc3"
      },
      "execution_count": 21,
      "outputs": [
        {
          "output_type": "execute_result",
          "data": {
            "text/plain": [
              "tensor([[0.0232, 0.6775, 0.3371, 0.0617],\n",
              "        [0.4299, 0.2899, 0.4220, 0.0208],\n",
              "        [0.5067, 0.5894, 0.7041, 0.4703]])"
            ]
          },
          "metadata": {},
          "execution_count": 21
        }
      ]
    },
    {
      "cell_type": "code",
      "source": [
        "random_tensor.ndim"
      ],
      "metadata": {
        "colab": {
          "base_uri": "https://localhost:8080/"
        },
        "id": "7mHnIT6ful5t",
        "outputId": "2c8cad14-e16a-4336-8faa-51601af886b4"
      },
      "execution_count": 22,
      "outputs": [
        {
          "output_type": "execute_result",
          "data": {
            "text/plain": [
              "2"
            ]
          },
          "metadata": {},
          "execution_count": 22
        }
      ]
    },
    {
      "cell_type": "code",
      "source": [
        "random_tensor = torch.rand(1, 10, 10)\n",
        "random_tensor"
      ],
      "metadata": {
        "colab": {
          "base_uri": "https://localhost:8080/"
        },
        "id": "ismcDzNXu0sq",
        "outputId": "17c99383-e6e3-42c2-8950-9018ac0fd81c"
      },
      "execution_count": 29,
      "outputs": [
        {
          "output_type": "execute_result",
          "data": {
            "text/plain": [
              "tensor([[[0.7730, 0.5911, 0.3071, 0.0330, 0.8072, 0.2942, 0.9285, 0.0605,\n",
              "          0.1369, 0.4917],\n",
              "         [0.8668, 0.8911, 0.7536, 0.1474, 0.4268, 0.8541, 0.1732, 0.5514,\n",
              "          0.3756, 0.4900],\n",
              "         [0.0808, 0.6230, 0.2562, 0.9600, 0.0274, 0.6985, 0.5445, 0.4171,\n",
              "          0.0810, 0.0865],\n",
              "         [0.3372, 0.1378, 0.3765, 0.6499, 0.0350, 0.1809, 0.1539, 0.3707,\n",
              "          0.2955, 0.3298],\n",
              "         [0.2741, 0.0223, 0.7408, 0.4288, 0.2991, 0.3147, 0.2089, 0.0158,\n",
              "          0.3385, 0.3860],\n",
              "         [0.0926, 0.5649, 0.9927, 0.3122, 0.5458, 0.1229, 0.9371, 0.5096,\n",
              "          0.8494, 0.0754],\n",
              "         [0.0633, 0.6501, 0.7619, 0.2212, 0.4907, 0.2346, 0.7137, 0.4174,\n",
              "          0.6714, 0.9110],\n",
              "         [0.9931, 0.2848, 0.2669, 0.9497, 0.3099, 0.7569, 0.2771, 0.9661,\n",
              "          0.6126, 0.8739],\n",
              "         [0.7791, 0.6742, 0.1788, 0.4536, 0.0772, 0.8504, 0.8261, 0.0665,\n",
              "          0.7416, 0.7966],\n",
              "         [0.4362, 0.5610, 0.5886, 0.6933, 0.5712, 0.2647, 0.7368, 0.2266,\n",
              "          0.6289, 0.3775]]])"
            ]
          },
          "metadata": {},
          "execution_count": 29
        }
      ]
    },
    {
      "cell_type": "code",
      "source": [
        "random_tensor.ndim"
      ],
      "metadata": {
        "colab": {
          "base_uri": "https://localhost:8080/"
        },
        "id": "3nx-3w3_vb88",
        "outputId": "8c2f052d-808f-406d-a049-734058c272c6"
      },
      "execution_count": 30,
      "outputs": [
        {
          "output_type": "execute_result",
          "data": {
            "text/plain": [
              "3"
            ]
          },
          "metadata": {},
          "execution_count": 30
        }
      ]
    },
    {
      "cell_type": "code",
      "source": [
        "random_tensor.shape"
      ],
      "metadata": {
        "colab": {
          "base_uri": "https://localhost:8080/"
        },
        "id": "xUYidVCTvqk_",
        "outputId": "e1eb846a-edd8-492c-ef92-1d410bb32387"
      },
      "execution_count": 31,
      "outputs": [
        {
          "output_type": "execute_result",
          "data": {
            "text/plain": [
              "torch.Size([1, 10, 10])"
            ]
          },
          "metadata": {},
          "execution_count": 31
        }
      ]
    },
    {
      "cell_type": "code",
      "source": [
        "random_tensor = torch.rand(10, 10)\n",
        "random_tensor"
      ],
      "metadata": {
        "colab": {
          "base_uri": "https://localhost:8080/"
        },
        "outputId": "c5520e44-76ed-46f9-8fb7-4e5afb8a251a",
        "id": "-9RQMtwMvc6V"
      },
      "execution_count": 32,
      "outputs": [
        {
          "output_type": "execute_result",
          "data": {
            "text/plain": [
              "tensor([[0.2711, 0.3221, 0.5335, 0.6506, 0.5412, 0.5976, 0.1566, 0.3219, 0.2291,\n",
              "         0.2765],\n",
              "        [0.5922, 0.3208, 0.0866, 0.5016, 0.7539, 0.6448, 0.5286, 0.1710, 0.9491,\n",
              "         0.2977],\n",
              "        [0.1178, 0.0790, 0.8648, 0.0782, 0.2534, 0.5592, 0.2845, 0.6964, 0.2024,\n",
              "         0.0928],\n",
              "        [0.5816, 0.9484, 0.5876, 0.8569, 0.8673, 0.5533, 0.0728, 0.4418, 0.3791,\n",
              "         0.1818],\n",
              "        [0.2015, 0.6191, 0.3074, 0.8842, 0.0584, 0.5035, 0.5428, 0.9203, 0.9006,\n",
              "         0.5828],\n",
              "        [0.2070, 0.3731, 0.2106, 0.1068, 0.7819, 0.7708, 0.3746, 0.3400, 0.2292,\n",
              "         0.1696],\n",
              "        [0.6070, 0.1424, 0.0376, 0.3526, 0.6981, 0.6004, 0.1594, 0.9672, 0.1731,\n",
              "         0.1134],\n",
              "        [0.8784, 0.2907, 0.5013, 0.8753, 0.5723, 0.9724, 0.2924, 0.7274, 0.7773,\n",
              "         0.5392],\n",
              "        [0.9898, 0.5372, 0.4483, 0.5575, 0.9046, 0.6284, 0.3848, 0.4244, 0.9604,\n",
              "         0.6392],\n",
              "        [0.7546, 0.7822, 0.3319, 0.9257, 0.7727, 0.5470, 0.2461, 0.7804, 0.5383,\n",
              "         0.4602]])"
            ]
          },
          "metadata": {},
          "execution_count": 32
        }
      ]
    },
    {
      "cell_type": "code",
      "source": [
        "random_tensor.ndim"
      ],
      "metadata": {
        "colab": {
          "base_uri": "https://localhost:8080/"
        },
        "id": "dQcS6LOnvzvi",
        "outputId": "ba398ca6-893d-49e0-fe5b-c68e23fb90f0"
      },
      "execution_count": 33,
      "outputs": [
        {
          "output_type": "execute_result",
          "data": {
            "text/plain": [
              "2"
            ]
          },
          "metadata": {},
          "execution_count": 33
        }
      ]
    },
    {
      "cell_type": "code",
      "source": [
        "random_tensor.shape"
      ],
      "metadata": {
        "colab": {
          "base_uri": "https://localhost:8080/"
        },
        "id": "3W1iGaSev9DY",
        "outputId": "e47515d2-a26b-44dc-d913-24396c7ed189"
      },
      "execution_count": 34,
      "outputs": [
        {
          "output_type": "execute_result",
          "data": {
            "text/plain": [
              "torch.Size([10, 10])"
            ]
          },
          "metadata": {},
          "execution_count": 34
        }
      ]
    },
    {
      "cell_type": "markdown",
      "source": [
        "Create a random tensor with similar shape to an image tensor"
      ],
      "metadata": {
        "id": "PP86b56Rw3LC"
      }
    },
    {
      "cell_type": "code",
      "source": [
        "random_image_size_tensor = torch.rand(size=(224, 224, 3))\n",
        "# where numbers are height, width, colour channels (RGB)\n",
        "random_image_size_tensor.ndim, random_image_size_tensor.shape"
      ],
      "metadata": {
        "colab": {
          "base_uri": "https://localhost:8080/"
        },
        "id": "CiY8l41_xFoE",
        "outputId": "7fb35037-1d1c-4652-90e9-f2bd238e3d0b"
      },
      "execution_count": 35,
      "outputs": [
        {
          "output_type": "execute_result",
          "data": {
            "text/plain": [
              "(3, torch.Size([224, 224, 3]))"
            ]
          },
          "metadata": {},
          "execution_count": 35
        }
      ]
    },
    {
      "cell_type": "code",
      "source": [
        "random_tensor2 = torch.rand(4, 12, 6)\n",
        "random_tensor2"
      ],
      "metadata": {
        "colab": {
          "base_uri": "https://localhost:8080/"
        },
        "id": "vQPQILVRyzFj",
        "outputId": "d39d3cbc-77d4-46e7-bd5f-39490991cf89"
      },
      "execution_count": 36,
      "outputs": [
        {
          "output_type": "execute_result",
          "data": {
            "text/plain": [
              "tensor([[[0.4544, 0.4873, 0.4942, 0.7412, 0.7082, 0.4218],\n",
              "         [0.5749, 0.9154, 0.8113, 0.7286, 0.4418, 0.8912],\n",
              "         [0.2525, 0.4259, 0.5633, 0.7518, 0.2293, 0.0067],\n",
              "         [0.8119, 0.2113, 0.8996, 0.8409, 0.3213, 0.4971],\n",
              "         [0.8278, 0.3382, 0.7322, 0.1800, 0.5430, 0.1861],\n",
              "         [0.1504, 0.6489, 0.3016, 0.1456, 0.1991, 0.1527],\n",
              "         [0.8655, 0.3433, 0.1682, 0.3117, 0.8194, 0.1977],\n",
              "         [0.1134, 0.1266, 0.3811, 0.3485, 0.2716, 0.1845],\n",
              "         [0.6760, 0.1394, 0.7402, 0.2631, 0.2327, 0.4483],\n",
              "         [0.0763, 0.3075, 0.6480, 0.2865, 0.8929, 0.6293],\n",
              "         [0.9216, 0.8465, 0.2898, 0.0016, 0.5643, 0.0069],\n",
              "         [0.4949, 0.0822, 0.5312, 0.6265, 0.0817, 0.0367]],\n",
              "\n",
              "        [[0.0158, 0.4512, 0.5864, 0.0290, 0.0950, 0.2840],\n",
              "         [0.7428, 0.1438, 0.0455, 0.2756, 0.8852, 0.6492],\n",
              "         [0.2393, 0.4425, 0.2055, 0.8559, 0.2229, 0.2408],\n",
              "         [0.7440, 0.5292, 0.0739, 0.5493, 0.1290, 0.1625],\n",
              "         [0.2131, 0.6416, 0.2810, 0.7893, 0.5396, 0.3878],\n",
              "         [0.3701, 0.0572, 0.3465, 0.3753, 0.3919, 0.7430],\n",
              "         [0.3950, 0.8170, 0.5433, 0.4001, 0.3875, 0.9435],\n",
              "         [0.6259, 0.1726, 0.6324, 0.8823, 0.2238, 0.8005],\n",
              "         [0.9127, 0.2697, 0.0698, 0.2786, 0.4348, 0.5236],\n",
              "         [0.9694, 0.1445, 0.6905, 0.2629, 0.5041, 0.2698],\n",
              "         [0.5778, 0.6046, 0.3498, 0.4972, 0.5081, 0.1695],\n",
              "         [0.4268, 0.3156, 0.6744, 0.5145, 0.2351, 0.4932]],\n",
              "\n",
              "        [[0.3351, 0.5557, 0.9451, 0.9715, 0.0445, 0.9115],\n",
              "         [0.0715, 0.0318, 0.8851, 0.9944, 0.3789, 0.5639],\n",
              "         [0.0442, 0.0778, 0.8986, 0.9411, 0.3328, 0.3080],\n",
              "         [0.3832, 0.3098, 0.2963, 0.5524, 0.7894, 0.0208],\n",
              "         [0.9682, 0.1080, 0.6232, 0.9036, 0.3401, 0.7529],\n",
              "         [0.4601, 0.1631, 0.7698, 0.3446, 0.8442, 0.7136],\n",
              "         [0.9778, 0.7185, 0.3498, 0.2224, 0.8972, 0.2898],\n",
              "         [0.4845, 0.8811, 0.3599, 0.8494, 0.8175, 0.9245],\n",
              "         [0.0987, 0.5795, 0.4217, 0.1466, 0.7819, 0.1260],\n",
              "         [0.0119, 0.1943, 0.2696, 0.1983, 0.1809, 0.8649],\n",
              "         [0.1487, 0.8464, 0.0656, 0.5892, 0.1775, 0.6922],\n",
              "         [0.3953, 0.8418, 0.7322, 0.5835, 0.0161, 0.0285]],\n",
              "\n",
              "        [[0.2272, 0.5781, 0.6923, 0.8274, 0.7253, 0.1926],\n",
              "         [0.6285, 0.5782, 0.9146, 0.9067, 0.8891, 0.9389],\n",
              "         [0.6582, 0.7885, 0.5727, 0.1180, 0.4853, 0.9436],\n",
              "         [0.8786, 0.9234, 0.3680, 0.0543, 0.8443, 0.2614],\n",
              "         [0.8063, 0.6279, 0.1842, 0.0071, 0.7624, 0.5888],\n",
              "         [0.2670, 0.9701, 0.6519, 0.2579, 0.5304, 0.8927],\n",
              "         [0.1593, 0.3792, 0.9133, 0.2190, 0.7890, 0.8924],\n",
              "         [0.5318, 0.9338, 0.1346, 0.4711, 0.3416, 0.5424],\n",
              "         [0.7002, 0.0332, 0.5567, 0.2337, 0.7661, 0.4377],\n",
              "         [0.1303, 0.6402, 0.6411, 0.8981, 0.5424, 0.4332],\n",
              "         [0.9560, 0.4078, 0.8614, 0.7529, 0.1541, 0.2069],\n",
              "         [0.0612, 0.6313, 0.4639, 0.9612, 0.7116, 0.4689]]])"
            ]
          },
          "metadata": {},
          "execution_count": 36
        }
      ]
    },
    {
      "cell_type": "code",
      "source": [
        "random_tensor2.ndim, random_tensor2.shape"
      ],
      "metadata": {
        "colab": {
          "base_uri": "https://localhost:8080/"
        },
        "id": "YnsE8y-yzCsn",
        "outputId": "4374ec9c-c9f1-4422-a2ef-6e58bdd33937"
      },
      "execution_count": 37,
      "outputs": [
        {
          "output_type": "execute_result",
          "data": {
            "text/plain": [
              "(3, torch.Size([4, 12, 6]))"
            ]
          },
          "metadata": {},
          "execution_count": 37
        }
      ]
    },
    {
      "cell_type": "markdown",
      "source": [
        "Zeros and ones"
      ],
      "metadata": {
        "id": "5tYVjfV0zpSY"
      }
    },
    {
      "cell_type": "code",
      "source": [
        "zeros = torch.zeros(size=(3, 4))\n",
        "zeros"
      ],
      "metadata": {
        "colab": {
          "base_uri": "https://localhost:8080/"
        },
        "id": "QFjPZRPLzvCk",
        "outputId": "7aa97e7e-270d-49e6-f1da-019ef37386d9"
      },
      "execution_count": 38,
      "outputs": [
        {
          "output_type": "execute_result",
          "data": {
            "text/plain": [
              "tensor([[0., 0., 0., 0.],\n",
              "        [0., 0., 0., 0.],\n",
              "        [0., 0., 0., 0.]])"
            ]
          },
          "metadata": {},
          "execution_count": 38
        }
      ]
    },
    {
      "cell_type": "code",
      "source": [
        "ones = torch.ones(size=(3, 4))\n",
        "ones"
      ],
      "metadata": {
        "colab": {
          "base_uri": "https://localhost:8080/"
        },
        "id": "knzI-Cll0VBA",
        "outputId": "95330b23-9af9-4095-d330-9308dc6f13ab"
      },
      "execution_count": 39,
      "outputs": [
        {
          "output_type": "execute_result",
          "data": {
            "text/plain": [
              "tensor([[1., 1., 1., 1.],\n",
              "        [1., 1., 1., 1.],\n",
              "        [1., 1., 1., 1.]])"
            ]
          },
          "metadata": {},
          "execution_count": 39
        }
      ]
    },
    {
      "cell_type": "code",
      "source": [
        "ones.dtype"
      ],
      "metadata": {
        "colab": {
          "base_uri": "https://localhost:8080/"
        },
        "id": "kQKThWUu_6zp",
        "outputId": "67cdf5d1-d5af-4e27-aadb-33e7887bace5"
      },
      "execution_count": 40,
      "outputs": [
        {
          "output_type": "execute_result",
          "data": {
            "text/plain": [
              "torch.float32"
            ]
          },
          "metadata": {},
          "execution_count": 40
        }
      ]
    },
    {
      "cell_type": "code",
      "source": [],
      "metadata": {
        "id": "DDksHcBc_7HI"
      },
      "execution_count": null,
      "outputs": []
    },
    {
      "cell_type": "markdown",
      "source": [
        "Range of tensors and tensor-like"
      ],
      "metadata": {
        "id": "0RAIbaNmAdKX"
      }
    },
    {
      "cell_type": "code",
      "source": [
        "torch.range(0, 10)"
      ],
      "metadata": {
        "colab": {
          "base_uri": "https://localhost:8080/"
        },
        "id": "DrZrleRgAiss",
        "outputId": "6aca192b-0934-4f8b-ae15-5110b61b1a70"
      },
      "execution_count": 41,
      "outputs": [
        {
          "output_type": "stream",
          "name": "stderr",
          "text": [
            "<ipython-input-41-cf0dcdb325c8>:1: UserWarning: torch.range is deprecated and will be removed in a future release because its behavior is inconsistent with Python's range builtin. Instead, use torch.arange, which produces values in [start, end).\n",
            "  torch.range(0, 10)\n"
          ]
        },
        {
          "output_type": "execute_result",
          "data": {
            "text/plain": [
              "tensor([ 0.,  1.,  2.,  3.,  4.,  5.,  6.,  7.,  8.,  9., 10.])"
            ]
          },
          "metadata": {},
          "execution_count": 41
        }
      ]
    },
    {
      "cell_type": "code",
      "source": [
        "torch.arange(0, 10)"
      ],
      "metadata": {
        "colab": {
          "base_uri": "https://localhost:8080/"
        },
        "id": "Yx1vLwch_7LP",
        "outputId": "a93c74e7-0a81-4032-8607-b154ab314cce"
      },
      "execution_count": 42,
      "outputs": [
        {
          "output_type": "execute_result",
          "data": {
            "text/plain": [
              "tensor([0, 1, 2, 3, 4, 5, 6, 7, 8, 9])"
            ]
          },
          "metadata": {},
          "execution_count": 42
        }
      ]
    },
    {
      "cell_type": "code",
      "source": [
        "one_to_ten = torch.arange(start=200, end=2000, step=250)\n",
        "one_to_ten"
      ],
      "metadata": {
        "colab": {
          "base_uri": "https://localhost:8080/"
        },
        "id": "iiCd97rY_7Ps",
        "outputId": "a6e6116e-1075-4843-e243-86699af47ce7"
      },
      "execution_count": 43,
      "outputs": [
        {
          "output_type": "execute_result",
          "data": {
            "text/plain": [
              "tensor([ 200,  450,  700,  950, 1200, 1450, 1700, 1950])"
            ]
          },
          "metadata": {},
          "execution_count": 43
        }
      ]
    },
    {
      "cell_type": "code",
      "source": [
        "one_to_ten2 = torch.arange(start=1, end=11, step=1)\n",
        "one_to_ten2"
      ],
      "metadata": {
        "colab": {
          "base_uri": "https://localhost:8080/"
        },
        "id": "9QUNouAG_7Tg",
        "outputId": "3ac7bff9-05ae-4529-b8f3-4d6b59e14b9d"
      },
      "execution_count": 44,
      "outputs": [
        {
          "output_type": "execute_result",
          "data": {
            "text/plain": [
              "tensor([ 1,  2,  3,  4,  5,  6,  7,  8,  9, 10])"
            ]
          },
          "metadata": {},
          "execution_count": 44
        }
      ]
    },
    {
      "cell_type": "code",
      "source": [
        "ten_zeros = torch.zeros_like(input=one_to_ten2)\n",
        "ten_zeros"
      ],
      "metadata": {
        "colab": {
          "base_uri": "https://localhost:8080/"
        },
        "id": "Jz-FAaD3_7Xr",
        "outputId": "04ebcfca-9860-4261-e3f7-5b2b6ae9a478"
      },
      "execution_count": 48,
      "outputs": [
        {
          "output_type": "execute_result",
          "data": {
            "text/plain": [
              "tensor([0, 0, 0, 0, 0, 0, 0, 0, 0, 0])"
            ]
          },
          "metadata": {},
          "execution_count": 48
        }
      ]
    },
    {
      "cell_type": "markdown",
      "source": [
        "Tensor Datatypes"
      ],
      "metadata": {
        "id": "X94tUfc7DTLT"
      }
    },
    {
      "cell_type": "code",
      "source": [
        "float_32_tensor = torch.tensor([3.0, 5.0, 8.0],\n",
        "                               dtype=None)\n",
        "float_32_tensor"
      ],
      "metadata": {
        "colab": {
          "base_uri": "https://localhost:8080/"
        },
        "id": "eNoOZ6k5DW35",
        "outputId": "4fa2054d-162e-4b8b-cb8f-f2b684d5ae1b"
      },
      "execution_count": 49,
      "outputs": [
        {
          "output_type": "execute_result",
          "data": {
            "text/plain": [
              "tensor([3., 5., 8.])"
            ]
          },
          "metadata": {},
          "execution_count": 49
        }
      ]
    },
    {
      "cell_type": "code",
      "source": [
        "torch.float32"
      ],
      "metadata": {
        "colab": {
          "base_uri": "https://localhost:8080/"
        },
        "id": "x41r9HFPDyg7",
        "outputId": "1bf160d8-a066-4ffb-e850-bec4675ad4aa"
      },
      "execution_count": 51,
      "outputs": [
        {
          "output_type": "execute_result",
          "data": {
            "text/plain": [
              "torch.float32"
            ]
          },
          "metadata": {},
          "execution_count": 51
        }
      ]
    },
    {
      "cell_type": "code",
      "source": [
        "float_32_tensor2 = torch.tensor([3.0, 5.0, 8.0],\n",
        "                               dtype=None, # what datatype - 32 bit floating point and 16 bit floating point are most common\n",
        "                               device=None, # what device is your tensor on - ie CPU, GPU or TPU\n",
        "                               requires_grad=False) #whether or not to track gradients with this tensors operations\n",
        "float_32_tensor2"
      ],
      "metadata": {
        "colab": {
          "base_uri": "https://localhost:8080/"
        },
        "outputId": "60bf5acb-01a6-4d73-ad40-1747558f220e",
        "id": "4Sq2TIPsFI92"
      },
      "execution_count": 54,
      "outputs": [
        {
          "output_type": "execute_result",
          "data": {
            "text/plain": [
              "tensor([3., 5., 8.])"
            ]
          },
          "metadata": {},
          "execution_count": 54
        }
      ]
    },
    {
      "cell_type": "markdown",
      "source": [
        "In computer science, the precision of a numerical quantity is a measure of the detail in which the quantity is expressed. This is usually measured in bits, but sometimes in decimal digits. It is related to precision in mathematics, which describes the number of digits that are used to express a value.\n",
        "\n",
        "Some of the standardized precision formats are\n",
        "\n",
        "*   Half-precision floating-point format = float16\n",
        "*   Single-precision floating-point format = float32\n",
        "*   Double-precision floating-point format = float64\n",
        "*   Quadruple-precision floating-point format\n",
        "*   Octuple-precision floating-point format\n",
        "\n",
        "Of these, octuple-precision format is rarely used. The single- and double-precision formats are most widely used and supported on nearly all platforms. The use of half-precision format has been increasing especially in the field of machine learning since many machine learning algorithms are inherently error-tolerant."
      ],
      "metadata": {
        "id": "b5ovBlVAGPqz"
      }
    },
    {
      "cell_type": "markdown",
      "source": [
        "Tensor datatypes is one of the 3 big errors that you'll run into with PyTorch and deep learning:\n",
        "* Tensors not right datatype\n",
        "* Tensors not right shape\n",
        "* Tensor not on right device\n",
        "\n"
      ],
      "metadata": {
        "id": "WneLDzX7IUgm"
      }
    },
    {
      "cell_type": "code",
      "source": [
        "float_32_tensor2.dtype"
      ],
      "metadata": {
        "colab": {
          "base_uri": "https://localhost:8080/"
        },
        "id": "ANePn6WtKFuK",
        "outputId": "50a19a2a-46cd-4f79-bbf0-e23e94ac671c"
      },
      "execution_count": 58,
      "outputs": [
        {
          "output_type": "execute_result",
          "data": {
            "text/plain": [
              "torch.float32"
            ]
          },
          "metadata": {},
          "execution_count": 58
        }
      ]
    },
    {
      "cell_type": "code",
      "source": [
        "float_16_tensor = float_32_tensor2.type(torch.float16) # how to convert float tensor - in this case converting a 32 bit tensor into a 16 bit tensor\n",
        "float_16_tensor"
      ],
      "metadata": {
        "colab": {
          "base_uri": "https://localhost:8080/"
        },
        "id": "xxhbx8epKMkt",
        "outputId": "163c1fd8-5996-4a3f-83f4-76e12c775102"
      },
      "execution_count": 59,
      "outputs": [
        {
          "output_type": "execute_result",
          "data": {
            "text/plain": [
              "tensor([3., 5., 8.], dtype=torch.float16)"
            ]
          },
          "metadata": {},
          "execution_count": 59
        }
      ]
    },
    {
      "cell_type": "code",
      "source": [
        "float_16_tensor * float_32_tensor2"
      ],
      "metadata": {
        "colab": {
          "base_uri": "https://localhost:8080/"
        },
        "id": "DCvHO_vCNEOR",
        "outputId": "917c5d28-821d-4588-f0b4-ccdcd2a89db0"
      },
      "execution_count": 62,
      "outputs": [
        {
          "output_type": "execute_result",
          "data": {
            "text/plain": [
              "tensor([ 9., 25., 64.])"
            ]
          },
          "metadata": {},
          "execution_count": 62
        }
      ]
    },
    {
      "cell_type": "code",
      "source": [
        "int_32_tensor = torch.tensor([4, 5, 9], dtype=torch.int32)\n",
        "int_32_tensor"
      ],
      "metadata": {
        "colab": {
          "base_uri": "https://localhost:8080/"
        },
        "id": "2N3jhZQdNEYZ",
        "outputId": "c7a4dab3-5aa4-466f-e381-05851709507d"
      },
      "execution_count": 65,
      "outputs": [
        {
          "output_type": "execute_result",
          "data": {
            "text/plain": [
              "tensor([4, 5, 9], dtype=torch.int32)"
            ]
          },
          "metadata": {},
          "execution_count": 65
        }
      ]
    },
    {
      "cell_type": "code",
      "source": [
        "int_32_tensor * float_16_tensor"
      ],
      "metadata": {
        "colab": {
          "base_uri": "https://localhost:8080/"
        },
        "id": "yK9rEjOhNpTe",
        "outputId": "41ebc311-923b-43b1-ba53-bc668e5d47b1"
      },
      "execution_count": 66,
      "outputs": [
        {
          "output_type": "execute_result",
          "data": {
            "text/plain": [
              "tensor([12., 25., 72.], dtype=torch.float16)"
            ]
          },
          "metadata": {},
          "execution_count": 66
        }
      ]
    },
    {
      "cell_type": "markdown",
      "source": [
        "Getting information from tensors:\n",
        "\n",
        "* Tensors not right datatype - tensor.dtype\n",
        "* Tensors not right shape = tensor.shape\n",
        "* Tensor not on right device = tensor.device\n",
        "\n"
      ],
      "metadata": {
        "id": "dgxQrkfpPDam"
      }
    },
    {
      "cell_type": "code",
      "source": [
        "test = torch.rand([3, 5])\n",
        "test"
      ],
      "metadata": {
        "colab": {
          "base_uri": "https://localhost:8080/"
        },
        "id": "1HpHN4DsPbnY",
        "outputId": "ac027fb9-26dd-4344-ab94-7b67002ab02c"
      },
      "execution_count": 67,
      "outputs": [
        {
          "output_type": "execute_result",
          "data": {
            "text/plain": [
              "tensor([[0.8665, 0.6007, 0.4783, 0.2385, 0.7148],\n",
              "        [0.9890, 0.9780, 0.6193, 0.2665, 0.4752],\n",
              "        [0.2343, 0.4702, 0.9292, 0.4377, 0.9813]])"
            ]
          },
          "metadata": {},
          "execution_count": 67
        }
      ]
    },
    {
      "cell_type": "code",
      "source": [
        "print(test)\n",
        "print(f\"Datatype of tensor: {test.dtype}\")\n",
        "print(f\"Shape of tensor: {test.shape}\")\n",
        "print(f\"Device type of tensor: {test.device}\")"
      ],
      "metadata": {
        "colab": {
          "base_uri": "https://localhost:8080/"
        },
        "id": "lSM0XL9PPrFQ",
        "outputId": "3ed9817d-7164-4281-b3e0-657cb30b1cf6"
      },
      "execution_count": 69,
      "outputs": [
        {
          "output_type": "stream",
          "name": "stdout",
          "text": [
            "tensor([[0.8665, 0.6007, 0.4783, 0.2385, 0.7148],\n",
            "        [0.9890, 0.9780, 0.6193, 0.2665, 0.4752],\n",
            "        [0.2343, 0.4702, 0.9292, 0.4377, 0.9813]])\n",
            "Datatype of tensor: torch.float32\n",
            "Shape of tensor: torch.Size([3, 5])\n",
            "Device type of tensor: cpu\n"
          ]
        }
      ]
    },
    {
      "cell_type": "markdown",
      "source": [
        "Functions and Attributes\n",
        "\n",
        "test.size() - this is a function\n",
        "\n",
        "test.shape - this is an attribute"
      ],
      "metadata": {
        "id": "AQcK2tRsQ1i5"
      }
    },
    {
      "cell_type": "markdown",
      "source": [
        "Manipulating Tensors (Tensor Operations)\n",
        "\n",
        "such as addition, subtraction, multiplication, division and matrix multiplication"
      ],
      "metadata": {
        "id": "oBCcgPkmRwRB"
      }
    },
    {
      "cell_type": "code",
      "source": [
        "tensor1 = torch.tensor([2, 5, 8])\n",
        "tensor1 + 10"
      ],
      "metadata": {
        "colab": {
          "base_uri": "https://localhost:8080/"
        },
        "id": "NZrJKDotSq-6",
        "outputId": "0f647fa8-c7e1-4bf2-90e8-d8cc8b19f72b"
      },
      "execution_count": 76,
      "outputs": [
        {
          "output_type": "execute_result",
          "data": {
            "text/plain": [
              "tensor([12, 15, 18])"
            ]
          },
          "metadata": {},
          "execution_count": 76
        }
      ]
    },
    {
      "cell_type": "code",
      "source": [
        "tensor1"
      ],
      "metadata": {
        "colab": {
          "base_uri": "https://localhost:8080/"
        },
        "id": "4amIVf0QS6cP",
        "outputId": "4d6b7d1d-436d-40cf-dddb-aa501f3e8e57"
      },
      "execution_count": 77,
      "outputs": [
        {
          "output_type": "execute_result",
          "data": {
            "text/plain": [
              "tensor([2, 5, 8])"
            ]
          },
          "metadata": {},
          "execution_count": 77
        }
      ]
    },
    {
      "cell_type": "code",
      "source": [
        "tensor1 = tensor1 * 3\n",
        "tensor1"
      ],
      "metadata": {
        "colab": {
          "base_uri": "https://localhost:8080/"
        },
        "id": "QzGD8K7OTMO6",
        "outputId": "6cc7adce-6566-4a08-d242-f4280ee94c3b"
      },
      "execution_count": 78,
      "outputs": [
        {
          "output_type": "execute_result",
          "data": {
            "text/plain": [
              "tensor([ 6, 15, 24])"
            ]
          },
          "metadata": {},
          "execution_count": 78
        }
      ]
    },
    {
      "cell_type": "code",
      "source": [
        "tensor2 = tensor1 - 2\n",
        "tensor2"
      ],
      "metadata": {
        "colab": {
          "base_uri": "https://localhost:8080/"
        },
        "id": "cjW7pXqnT0Ou",
        "outputId": "70524b4d-5ae4-4e9e-f4f1-0af5a33f05c5"
      },
      "execution_count": 79,
      "outputs": [
        {
          "output_type": "execute_result",
          "data": {
            "text/plain": [
              "tensor([ 4, 13, 22])"
            ]
          },
          "metadata": {},
          "execution_count": 79
        }
      ]
    },
    {
      "cell_type": "code",
      "source": [
        "torch.mul(tensor2, 3)\n"
      ],
      "metadata": {
        "colab": {
          "base_uri": "https://localhost:8080/"
        },
        "id": "TnEhaCsfUA-X",
        "outputId": "0bb32443-26a7-424e-cf9f-f066e059fb73"
      },
      "execution_count": 81,
      "outputs": [
        {
          "output_type": "execute_result",
          "data": {
            "text/plain": [
              "tensor([12, 39, 66])"
            ]
          },
          "metadata": {},
          "execution_count": 81
        }
      ]
    },
    {
      "cell_type": "code",
      "source": [
        "tensor3 = torch.add(tensor1, tensor2)\n",
        "tensor3"
      ],
      "metadata": {
        "colab": {
          "base_uri": "https://localhost:8080/"
        },
        "id": "nw0_vaxzUbUu",
        "outputId": "708d6ea0-9d5f-4844-b66c-83531bc23398"
      },
      "execution_count": 82,
      "outputs": [
        {
          "output_type": "execute_result",
          "data": {
            "text/plain": [
              "tensor([10, 28, 46])"
            ]
          },
          "metadata": {},
          "execution_count": 82
        }
      ]
    },
    {
      "cell_type": "code",
      "source": [
        "tensor4 = torch.mul(tensor2, tensor3)\n",
        "tensor4"
      ],
      "metadata": {
        "colab": {
          "base_uri": "https://localhost:8080/"
        },
        "id": "fSagzDoDUugz",
        "outputId": "6629d558-d067-48e6-a4d2-858d4cd0bf48"
      },
      "execution_count": 83,
      "outputs": [
        {
          "output_type": "execute_result",
          "data": {
            "text/plain": [
              "tensor([  40,  364, 1012])"
            ]
          },
          "metadata": {},
          "execution_count": 83
        }
      ]
    },
    {
      "cell_type": "code",
      "source": [
        "tensor4.dtype"
      ],
      "metadata": {
        "colab": {
          "base_uri": "https://localhost:8080/"
        },
        "id": "7rj8QBJAU-aY",
        "outputId": "047cfe9b-c004-4e1f-acc8-9eb4bd64393e"
      },
      "execution_count": 84,
      "outputs": [
        {
          "output_type": "execute_result",
          "data": {
            "text/plain": [
              "torch.int64"
            ]
          },
          "metadata": {},
          "execution_count": 84
        }
      ]
    }
  ]
}